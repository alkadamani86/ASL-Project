{
 "cells": [
  {
   "cell_type": "code",
   "execution_count": null,
   "id": "a6f4cef7-8a81-4832-8294-b1a711f3c4f5",
   "metadata": {},
   "outputs": [],
   "source": [
    "from google.cloud import bigquery\n",
    "\n",
    "PROJECT = !gcloud config get-value project\n",
    "PROJECT = PROJECT[0]\n",
    "\n",
    "%env PROJECT=$PROJECT"
   ]
  },
  {
   "cell_type": "code",
   "execution_count": null,
   "id": "c9c7ab8b-eea4-40ef-9ee3-2c6f3a8924c4",
   "metadata": {},
   "outputs": [],
   "source": [
    "%%bigquery --project $PROJECT\n",
    "#standardSQL\n",
    "SELECT\n",
    "    *\n",
    "FROM\n",
    "    `qwiklabs-asl-03-26f02ba81102.ASL_project.gta_bell_labels`\n",
    "WHERE\n",
    "    RAND() < .003 -- sample a small fraction of the data"
   ]
  }
 ],
 "metadata": {
  "environment": {
   "kernel": "python3",
   "name": "tf2-gpu.2-8.m102",
   "type": "gcloud",
   "uri": "gcr.io/deeplearning-platform-release/tf2-gpu.2-8:m102"
  },
  "kernelspec": {
   "display_name": "Python 3 (ipykernel)",
   "language": "python",
   "name": "python3"
  },
  "language_info": {
   "codemirror_mode": {
    "name": "ipython",
    "version": 3
   },
   "file_extension": ".py",
   "mimetype": "text/x-python",
   "name": "python",
   "nbconvert_exporter": "python",
   "pygments_lexer": "ipython3",
   "version": "3.7.12"
  }
 },
 "nbformat": 4,
 "nbformat_minor": 5
}
